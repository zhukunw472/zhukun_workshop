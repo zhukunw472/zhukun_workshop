{
 "cells": [
  {
   "cell_type": "code",
   "execution_count": 43,
   "id": "0141d512",
   "metadata": {},
   "outputs": [],
   "source": [
    "import math\n",
    "import cmath"
   ]
  },
  {
   "cell_type": "code",
   "execution_count": 44,
   "id": "8cf9399d",
   "metadata": {},
   "outputs": [],
   "source": [
    "def hypot(a, b):\n",
    "    return (a ** 2 + b ** 2) ** 0.5"
   ]
  },
  {
   "cell_type": "code",
   "execution_count": 45,
   "id": "339f9001",
   "metadata": {},
   "outputs": [
    {
     "data": {
      "text/plain": [
       "5.0"
      ]
     },
     "execution_count": 45,
     "metadata": {},
     "output_type": "execute_result"
    }
   ],
   "source": [
    "hypot(3, 4)"
   ]
  },
  {
   "cell_type": "code",
   "execution_count": 46,
   "id": "4e79b5f5",
   "metadata": {},
   "outputs": [],
   "source": [
    "assert hypot(3, 4) == 5 # If I set this equal to any number that is not 5, then assertion error"
   ]
  },
  {
   "cell_type": "code",
   "execution_count": 58,
   "id": "84bed922",
   "metadata": {},
   "outputs": [],
   "source": [
    "def test_fc():\n",
    "    assert hypot(9, 12) == 15\n",
    "    assert hypot(2.1, 2.8) == 3.5\n",
    "    assert hypot(1.5, 2.0) == 2.5\n",
    "    #assert hypot(complex(1,2), complex(2,3))\n",
    "    assert hypot(1,1) == math.sqrt(2)\n",
    "    #assert hypot(1,1)*hypot(1,1) == 2\n",
    "    math.isclose(hypot(1, 1) * hypot(1, 1), 2, rel_tol=1e-9)\n",
    "    print(\"Test passed!\")"
   ]
  },
  {
   "cell_type": "code",
   "execution_count": 59,
   "id": "0946030c",
   "metadata": {},
   "outputs": [
    {
     "name": "stdout",
     "output_type": "stream",
     "text": [
      "Test passed!\n"
     ]
    }
   ],
   "source": [
    "test_fc()"
   ]
  },
  {
   "cell_type": "code",
   "execution_count": 50,
   "id": "3efde609",
   "metadata": {},
   "outputs": [],
   "source": [
    "def test_fc1():\n",
    "    assert hypot(-3, 4) == hypot(3, 4)\n",
    "    print(\"No negative, should not be passed\")"
   ]
  },
  {
   "cell_type": "code",
   "execution_count": 51,
   "id": "f43b133f",
   "metadata": {},
   "outputs": [
    {
     "name": "stdout",
     "output_type": "stream",
     "text": [
      "No negative, should not be passed\n"
     ]
    }
   ],
   "source": [
    "test_fc1()"
   ]
  },
  {
   "cell_type": "code",
   "execution_count": null,
   "id": "5d1faf8a",
   "metadata": {},
   "outputs": [],
   "source": []
  }
 ],
 "metadata": {
  "kernelspec": {
   "display_name": "Python 3 (ipykernel)",
   "language": "python",
   "name": "python3"
  },
  "language_info": {
   "codemirror_mode": {
    "name": "ipython",
    "version": 3
   },
   "file_extension": ".py",
   "mimetype": "text/x-python",
   "name": "python",
   "nbconvert_exporter": "python",
   "pygments_lexer": "ipython3",
   "version": "3.11.5"
  }
 },
 "nbformat": 4,
 "nbformat_minor": 5
}
