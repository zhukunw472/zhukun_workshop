{
 "cells": [
  {
   "cell_type": "code",
   "execution_count": 43,
   "id": "caf015c2",
   "metadata": {},
   "outputs": [],
   "source": [
    "import math\n",
    "import cmath"
   ]
  },
  {
   "cell_type": "code",
   "execution_count": 44,
   "id": "47d550e9",
   "metadata": {},
   "outputs": [],
   "source": [
    "def hypot(a, b):\n",
    "    return (a ** 2 + b ** 2) ** 0.5"
   ]
  },
  {
   "cell_type": "code",
   "execution_count": 45,
   "id": "07fb9a45",
   "metadata": {},
   "outputs": [
    {
     "data": {
      "text/plain": [
       "5.0"
      ]
     },
     "execution_count": 45,
     "metadata": {},
     "output_type": "execute_result"
    }
   ],
   "source": [
    "hypot(3, 4)"
   ]
  },
  {
   "cell_type": "code",
   "execution_count": 46,
   "id": "b6ff6da0",
   "metadata": {},
   "outputs": [],
   "source": [
    "assert hypot(3, 4) == 5 # If I set this equal to any number that is not 5, then assertion error"
   ]
  },
  {
   "cell_type": "code",
   "execution_count": 52,
   "id": "46dce85d",
   "metadata": {},
   "outputs": [],
   "source": [
    "def test_fc():\n",
    "    assert hypot(9, 12) == 15\n",
    "    assert hypot(2.1, 2.8) == 3.5\n",
    "    assert hypot(1.5, 2.0) == 2.5\n",
    "    #assert hypot(complex(1,2), complex(2,3))\n",
    "    assert hypot(1,1) == math.sqrt(2)\n",
    "    assert hypot(1, 1)*hypot(1,1) == 2\n",
    "    print(\"Test passed!\")"
   ]
  },
  {
   "cell_type": "code",
   "execution_count": 53,
   "id": "499539d9",
   "metadata": {},
   "outputs": [
    {
     "ename": "AssertionError",
     "evalue": "",
     "output_type": "error",
     "traceback": [
      "\u001b[1;31m---------------------------------------------------------------------------\u001b[0m",
      "\u001b[1;31mAssertionError\u001b[0m                            Traceback (most recent call last)",
      "Cell \u001b[1;32mIn[53], line 1\u001b[0m\n\u001b[1;32m----> 1\u001b[0m test_fc()\n",
      "Cell \u001b[1;32mIn[52], line 5\u001b[0m, in \u001b[0;36mtest_fc\u001b[1;34m()\u001b[0m\n\u001b[0;32m      3\u001b[0m \u001b[38;5;28;01massert\u001b[39;00m hypot(\u001b[38;5;241m2.1\u001b[39m, \u001b[38;5;241m2.8\u001b[39m) \u001b[38;5;241m==\u001b[39m \u001b[38;5;241m3.5\u001b[39m\n\u001b[0;32m      4\u001b[0m \u001b[38;5;28;01massert\u001b[39;00m hypot(\u001b[38;5;241m1.5\u001b[39m, \u001b[38;5;241m2.0\u001b[39m) \u001b[38;5;241m==\u001b[39m \u001b[38;5;241m2.5\u001b[39m\n\u001b[1;32m----> 5\u001b[0m \u001b[38;5;28;01massert\u001b[39;00m hypot(\u001b[38;5;241m1\u001b[39m, \u001b[38;5;241m1\u001b[39m)\u001b[38;5;241m*\u001b[39mhypot(\u001b[38;5;241m1\u001b[39m,\u001b[38;5;241m1\u001b[39m) \u001b[38;5;241m==\u001b[39m \u001b[38;5;241m2\u001b[39m\n\u001b[0;32m      6\u001b[0m \u001b[38;5;66;03m#assert hypot(complex(1,2), complex(2,3))\u001b[39;00m\n\u001b[0;32m      7\u001b[0m \u001b[38;5;28;01massert\u001b[39;00m hypot(\u001b[38;5;241m1\u001b[39m,\u001b[38;5;241m1\u001b[39m) \u001b[38;5;241m==\u001b[39m math\u001b[38;5;241m.\u001b[39msqrt(\u001b[38;5;241m2\u001b[39m)\n",
      "\u001b[1;31mAssertionError\u001b[0m: "
     ]
    }
   ],
   "source": [
    "test_fc()"
   ]
  },
  {
   "cell_type": "code",
   "execution_count": 50,
   "id": "4a2b4af2",
   "metadata": {},
   "outputs": [],
   "source": [
    "def test_fc1():\n",
    "    assert hypot(-3, 4) == hypot(3, 4)\n",
    "    print(\"No negative, should not be passed\")"
   ]
  },
  {
   "cell_type": "code",
   "execution_count": 51,
   "id": "d2daddcb",
   "metadata": {},
   "outputs": [
    {
     "name": "stdout",
     "output_type": "stream",
     "text": [
      "No negative, should not be passed\n"
     ]
    }
   ],
   "source": [
    "test_fc1()"
   ]
  },
  {
   "cell_type": "code",
   "execution_count": null,
   "id": "cda0315d",
   "metadata": {},
   "outputs": [],
   "source": []
  }
 ],
 "metadata": {
  "kernelspec": {
   "display_name": "Python 3 (ipykernel)",
   "language": "python",
   "name": "python3"
  },
  "language_info": {
   "codemirror_mode": {
    "name": "ipython",
    "version": 3
   },
   "file_extension": ".py",
   "mimetype": "text/x-python",
   "name": "python",
   "nbconvert_exporter": "python",
   "pygments_lexer": "ipython3",
   "version": "3.11.5"
  }
 },
 "nbformat": 4,
 "nbformat_minor": 5
}
